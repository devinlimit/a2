{
 "cells": [
  {
   "cell_type": "code",
   "execution_count": 1,
   "metadata": {},
   "outputs": [
    {
     "name": "stdin",
     "output_type": "stream",
     "text": [
      "Enter the word:  frequently\n"
     ]
    },
    {
     "name": "stdout",
     "output_type": "stream",
     "text": [
      "{'f', 'u', 't', 'l', 'y', 'n', 'r', 'e', 'q'}\n",
      "According to Q-keybord; saying comfortable for the word \"frequently\" is True info.\n"
     ]
    }
   ],
   "source": [
    "### print(right.intersection(text)) # intersection of a and b\n",
    "### sadeleşmiş hali\n",
    "\n",
    "left = set('qwertasdfgzxcvb')\n",
    "right = set('yuıopğühjklşinmöç')\n",
    "\n",
    "word = input(\"Enter the word: \")\n",
    "\n",
    "text = set(word)\n",
    "print(text)\n",
    "\n",
    "right_verify = bool(right & text)\n",
    "left_verify = bool(left & text)\n",
    "check = right_verify and left_verify\n",
    "\n",
    "print(\"\"\"According to Q-keybord; saying comfortable for the word \\\"\"\"\" + word, \"\"\"\\b\\\" is\"\"\", check, \"\"\"info.\"\"\")\n"
   ]
  },
  {
   "cell_type": "code",
   "execution_count": 4,
   "metadata": {},
   "outputs": [
    {
     "name": "stdout",
     "output_type": "stream",
     "text": [
      "1\n",
      "[1, 1, 0, 4, 1, 0, 1, 1, 0, 0]\n",
      "4\n",
      "3\n",
      "the most frequent number is 3 and it was 4 times repeated.\n"
     ]
    }
   ],
   "source": [
    "### Ass-8\n",
    "### output = the most frequent number is 3 and it was 4 times repeated\n",
    "\n",
    "numbers = [1, 3, 7, 4, 3, 0, 3, 6, 3]\n",
    "\n",
    "n = numbers.count(0)\n",
    "n1 = numbers.count(1)\n",
    "n2 = numbers.count(2)\n",
    "n3 = numbers.count(3)\n",
    "n4 = numbers.count(4)\n",
    "n5 = numbers.count(5)\n",
    "n6 = numbers.count(6)\n",
    "n7 = numbers.count(7)\n",
    "n8 = numbers.count(8)\n",
    "n9 = numbers.count(9)\n",
    "\n",
    "print(n)\n",
    "\n",
    "numbers2 = []\n",
    "\n",
    "numbers2.append(n)\n",
    "numbers2.append(n1)\n",
    "numbers2.append(n2)\n",
    "numbers2.append(n3)\n",
    "numbers2.append(n4)\n",
    "numbers2.append(n5)\n",
    "numbers2.append(n6)\n",
    "numbers2.append(n7)\n",
    "numbers2.append(n8)\n",
    "numbers2.append(n9)\n",
    "\n",
    "\n",
    "print(numbers2)\n",
    "\n",
    "nmax = max(numbers2)\n",
    "\n",
    "print(nmax)\n",
    "\n",
    "index  = numbers2.index(nmax)\n",
    "a = numbers2.pop(index)\n",
    "\n",
    "print(index)\n",
    "\n",
    "print(\"the most frequent number is\", index, \"and it was\", nmax, \"times repeated.\")\n",
    "\n",
    "\n",
    "\n"
   ]
  },
  {
   "cell_type": "code",
   "execution_count": 11,
   "metadata": {},
   "outputs": [],
   "source": [
    "numbers = [1, 10, 5, 16, 4, 9, 10]\n",
    "letters = ['a', 'g', 's', 'b', 'y', 'a', 's']\n",
    "\n",
    "numbers.sort()  # sayısal büyüklük olarak küçükten büyüğe sıralanır.\n",
    "letters.sort()  # alfabetik olarak a-z' e doğru sıralanır."
   ]
  },
  {
   "cell_type": "code",
   "execution_count": 4,
   "metadata": {},
   "outputs": [
    {
     "data": {
      "text/plain": [
       "'a'"
      ]
     },
     "execution_count": 4,
     "metadata": {},
     "output_type": "execute_result"
    }
   ],
   "source": [
    "numbers = [1, 10, 5, 16, 4, 9, 10]\n",
    "letters = ['a', 'g', 's', 'b', 'y', 'a', 's']\n",
    "\n",
    "min(numbers) # 1\n",
    "max(numbers) # 16\n",
    "max(letters) # y\n",
    "min(letters) # a"
   ]
  },
  {
   "cell_type": "code",
   "execution_count": 5,
   "metadata": {},
   "outputs": [
    {
     "data": {
      "text/plain": [
       "2"
      ]
     },
     "execution_count": 5,
     "metadata": {},
     "output_type": "execute_result"
    }
   ],
   "source": [
    "numbers = [1, 10, 5, 16, 4, 9, 10]\n",
    "letters = ['a', 'g', 's', 'b', 'y', 'a', 's']\n",
    "numbers.count(10)  # 2\n",
    "letters.count('a') # 2"
   ]
  },
  {
   "cell_type": "code",
   "execution_count": 2,
   "metadata": {},
   "outputs": [
    {
     "name": "stdout",
     "output_type": "stream",
     "text": [
      "3\n",
      "Deniz\n",
      "['Ali', 'Yağmur', 'Hakan']\n"
     ]
    }
   ],
   "source": [
    "names = ['Ali','Yağmur','Hakan','Deniz']\n",
    "\n",
    "index  = names.index('Deniz')\n",
    "a = names.pop(index)\n",
    "\n",
    "print(index)\n",
    "print(a)\n",
    "print(names)"
   ]
  },
  {
   "cell_type": "code",
   "execution_count": 3,
   "metadata": {},
   "outputs": [
    {
     "name": "stdin",
     "output_type": "stream",
     "text": [
      "First, enter the number of elements and type each number :  7\n",
      " 2\n",
      " 2\n",
      " 3\n",
      " 3\n",
      " 4\n",
      " 5\n",
      " 6\n"
     ]
    },
    {
     "name": "stdout",
     "output_type": "stream",
     "text": [
      "[2, 2, 3, 3, 4, 5, 6]\n",
      "the most frequent number is 2 and it was 2 times repeated.\n"
     ]
    }
   ],
   "source": [
    "### Ass-8\n",
    "### output = the most frequent number is 3 and it was 4 times repeated\n",
    "### sadeleşmiş hali\n",
    "\n",
    "# creating an empty list \n",
    "numbers = [] \n",
    "  \n",
    "# number of elements as input \n",
    "x = int(input(\"First, enter the number of elements and type each number : \")) \n",
    "  \n",
    "# iterating till the range \n",
    "for i in range(0, x): \n",
    "    ele = int(input()) \n",
    "  \n",
    "    numbers.append(ele) # adding the element\n",
    "      \n",
    "print(numbers) \n",
    "\n",
    "n = numbers.count(0)\n",
    "n1 = numbers.count(1)\n",
    "n2 = numbers.count(2)\n",
    "n3 = numbers.count(3)\n",
    "n4 = numbers.count(4)\n",
    "n5 = numbers.count(5)\n",
    "n6 = numbers.count(6)\n",
    "n7 = numbers.count(7)\n",
    "n8 = numbers.count(8)\n",
    "n9 = numbers.count(9)\n",
    "\n",
    "numbers2 = []\n",
    "numbers2.append(n)\n",
    "numbers2.append(n1)\n",
    "numbers2.append(n2)\n",
    "numbers2.append(n3)\n",
    "numbers2.append(n4)\n",
    "numbers2.append(n5)\n",
    "numbers2.append(n6)\n",
    "numbers2.append(n7)\n",
    "numbers2.append(n8)\n",
    "numbers2.append(n9)\n",
    "\n",
    "nmax = max(numbers2)\n",
    "\n",
    "index  = numbers2.index(nmax)\n",
    "\n",
    "print(\"the most frequent number is\", index, \"and it was\", nmax, \"times repeated.\")\n",
    "\n"
   ]
  },
  {
   "cell_type": "code",
   "execution_count": 36,
   "metadata": {},
   "outputs": [
    {
     "name": "stdin",
     "output_type": "stream",
     "text": [
      "Enter number of elements :  3\n",
      " 3\n",
      " 4\n",
      " 5\n"
     ]
    },
    {
     "name": "stdout",
     "output_type": "stream",
     "text": [
      "[3, 4, 5]\n"
     ]
    }
   ],
   "source": [
    "# creating an empty list \n",
    "lst = [] \n",
    "  \n",
    "# number of elemetns as input \n",
    "n = int(input(\"Enter number of elements : \")) \n",
    "  \n",
    "# iterating till the range \n",
    "for i in range(0, n): \n",
    "    ele = int(input()) \n",
    "  \n",
    "    lst.append(ele) # adding the element \n",
    "      \n",
    "print(lst) "
   ]
  },
  {
   "cell_type": "code",
   "execution_count": 1,
   "metadata": {},
   "outputs": [
    {
     "name": "stdin",
     "output_type": "stream",
     "text": [
      "First, enter the number of elements and type each number :  7\n",
      " 1\n",
      " 2\n",
      " 4\n",
      " 2\n",
      " 5\n",
      " 4\n",
      " 2\n"
     ]
    },
    {
     "name": "stdout",
     "output_type": "stream",
     "text": [
      "[1, 2, 4, 2, 5, 4, 2]\n"
     ]
    }
   ],
   "source": [
    "\n",
    "# creating an empty list \n",
    "numbers = [] \n",
    "  \n",
    "# number of elements as input \n",
    "x = int(input(\"First, enter the number of elements and type each number : \")) \n",
    "  \n",
    "# iterating till the range \n",
    "for i in range(0, x): \n",
    "    ele = int(input()) \n",
    "  \n",
    "    numbers.append(ele) # adding the element \n",
    "    \n",
    "print(numbers)"
   ]
  },
  {
   "cell_type": "code",
   "execution_count": 3,
   "metadata": {},
   "outputs": [
    {
     "name": "stdin",
     "output_type": "stream",
     "text": [
      "First, enter the number of elements and type each number :  5\n",
      " 1\n",
      " 1\n",
      " 3\n",
      " 3\n",
      " 8\n"
     ]
    },
    {
     "name": "stdout",
     "output_type": "stream",
     "text": [
      "[1, 1, 3, 3, 8]\n",
      "n_max:  2\n",
      "[0, 0, 2, 0, 0, 0, 0, 1, 0]\n",
      "n_max:  2\n",
      "3\n",
      "the most frequent number is 1 3 and it was 2 times repeated.\n"
     ]
    }
   ],
   "source": [
    "\n",
    "# creating an empty list \n",
    "numbers = [] \n",
    "  \n",
    "# number of elements as input \n",
    "x = int(input(\"First, enter the number of elements and type each number : \")) \n",
    "  \n",
    "# iterating till the range \n",
    "for i in range(0, x): \n",
    "    ele = int(input()) \n",
    "  \n",
    "    numbers.append(ele) # adding the element\n",
    "      \n",
    "print(numbers) \n",
    "\n",
    "n = numbers.count(0)\n",
    "n1 = numbers.count(1)\n",
    "n2 = numbers.count(2)\n",
    "n3 = numbers.count(3)\n",
    "n4 = numbers.count(4)\n",
    "n5 = numbers.count(5)\n",
    "n6 = numbers.count(6)\n",
    "n7 = numbers.count(7)\n",
    "n8 = numbers.count(8)\n",
    "n9 = numbers.count(9)\n",
    "\n",
    "numbers2 = []\n",
    "numbers2.append(n)\n",
    "numbers2.append(n1)\n",
    "numbers2.append(n2)\n",
    "numbers2.append(n3)\n",
    "numbers2.append(n4)\n",
    "numbers2.append(n5)\n",
    "numbers2.append(n6)\n",
    "numbers2.append(n7)\n",
    "numbers2.append(n8)\n",
    "numbers2.append(n9)\n",
    "\n",
    "n_max = max(numbers2)\n",
    "print(\"n_max: \", n_max)\n",
    "\n",
    "index  = numbers2.index(n_max)\n",
    "numbers2.pop(index)\n",
    "print(numbers2)\n",
    "\n",
    "print(\"n_max: \", n_max)\n",
    "\n",
    "if n_max in numbers2:\n",
    "    index2 = numbers2.index(n_max)\n",
    "    index2 = index2 + 1\n",
    "    \n",
    "print(index2)\n",
    "\n",
    "print(\"the most frequent number is\", index, index2, \"and it was\", n_max, \"times repeated.\")"
   ]
  },
  {
   "cell_type": "code",
   "execution_count": 5,
   "metadata": {},
   "outputs": [
    {
     "name": "stdout",
     "output_type": "stream",
     "text": [
      "[1, 1, 0, 4, 1, 0, 1, 1, 0, 0]\n",
      "the most frequent number is 3 and it was 4 times repeated.\n"
     ]
    }
   ],
   "source": [
    "### Ass-8\n",
    "### output = the most frequent number is 3 and it was 4 times repeated\n",
    "### verilen liste üzerinden\n",
    "\n",
    "numbers = [1, 3, 7, 4, 3, 0, 3, 6, 3]\n",
    "\n",
    "n = numbers.count(0)\n",
    "n1 = numbers.count(1)\n",
    "n2 = numbers.count(2)\n",
    "n3 = numbers.count(3)\n",
    "n4 = numbers.count(4)\n",
    "n5 = numbers.count(5)\n",
    "n6 = numbers.count(6)\n",
    "n7 = numbers.count(7)\n",
    "n8 = numbers.count(8)\n",
    "n9 = numbers.count(9)\n",
    "\n",
    "numbers2 = []\n",
    "\n",
    "numbers2.append(n)\n",
    "numbers2.append(n1)\n",
    "numbers2.append(n2)\n",
    "numbers2.append(n3)\n",
    "numbers2.append(n4)\n",
    "numbers2.append(n5)\n",
    "numbers2.append(n6)\n",
    "numbers2.append(n7)\n",
    "numbers2.append(n8)\n",
    "numbers2.append(n9)\n",
    "\n",
    "nmax = max(numbers2)\n",
    "\n",
    "index  = numbers2.index(nmax)\n",
    "a = numbers2.pop(index)\n",
    "\n",
    "print(\"the most frequent number is\", index, \"and it was\", nmax, \"times repeated.\")"
   ]
  },
  {
   "cell_type": "code",
   "execution_count": 1,
   "metadata": {},
   "outputs": [
    {
     "name": "stdin",
     "output_type": "stream",
     "text": [
      "Enter your name:  hhh\n"
     ]
    },
    {
     "name": "stdout",
     "output_type": "stream",
     "text": [
      "Hello Hhh! See you later\n"
     ]
    }
   ],
   "source": [
    "### Ass-9\n",
    "### password GitHub repo\n",
    "\n",
    "password = \"Galatasaray1905*\"\n",
    "\n",
    "name = input(\"Enter your name: \").title().strip()\n",
    "\n",
    "if name == \"Devin\":\n",
    "    print(\"Hello\", name, \"\\b! The password is :\", password)\n",
    "else:\n",
    "    print(\"Hello\", name, \"\\b! See you later.\")"
   ]
  },
  {
   "cell_type": "code",
   "execution_count": 5,
   "metadata": {},
   "outputs": [
    {
     "name": "stdin",
     "output_type": "stream",
     "text": [
      "Please enter your saved amount:  99\n"
     ]
    },
    {
     "name": "stdout",
     "output_type": "stream",
     "text": [
      "You saved more than half, keep saving!\n"
     ]
    }
   ],
   "source": [
    "saved_amount = int(input('Please enter your saved amount: '))\n",
    "ps4_price = 100\n",
    "if saved_amount <= ps4_price / 2:\n",
    "    print(\"You must save more, keep saving!\")\n",
    "elif ps4_price > saved_amount > ps4_price / 2:\n",
    "    print(\"You saved more than half, keep saving!\")\n",
    "else:\n",
    "    print(\"Yippee! You can buy your PS4\")\n",
    "    "
   ]
  },
  {
   "cell_type": "code",
   "execution_count": 10,
   "metadata": {},
   "outputs": [
    {
     "name": "stdin",
     "output_type": "stream",
     "text": [
      "Please enter the mark:  70\n"
     ]
    },
    {
     "name": "stdout",
     "output_type": "stream",
     "text": [
      "B (Good)\n"
     ]
    }
   ],
   "source": [
    "### 85-100 ➔ A (Excellent)\n",
    "### 70-84 ➔ B (Good)\n",
    "### 60-69 ➔ C (Medium)\n",
    "### 45-59 ➔ D (Not Bad)\n",
    "### 0-44 ➔ F (Failed)\n",
    "\n",
    "math_mark = int(input('Please enter the mark: '))\n",
    "if math_mark <= 44:\n",
    "    print(\"F (Failed)\")\n",
    "elif math_mark <= 59:\n",
    "    print(\"D (Not Bad)\")\n",
    "elif math_mark <= 69:\n",
    "    print(\"C (Medium)\")\n",
    "elif math_mark <= 84:\n",
    "    print(\"B (Good)\") \n",
    "else:\n",
    "    print(\"A (Excellent)\")"
   ]
  },
  {
   "cell_type": "code",
   "execution_count": null,
   "metadata": {},
   "outputs": [],
   "source": []
  }
 ],
 "metadata": {
  "kernelspec": {
   "display_name": "Python 3.8.3 32-bit",
   "language": "python",
   "name": "python38332bitdffc9709f90d42dbbb8329c9bbc1e784"
  },
  "language_info": {
   "codemirror_mode": {
    "name": "ipython",
    "version": 3
   },
   "file_extension": ".py",
   "mimetype": "text/x-python",
   "name": "python",
   "nbconvert_exporter": "python",
   "pygments_lexer": "ipython3",
   "version": "3.8.3"
  }
 },
 "nbformat": 4,
 "nbformat_minor": 4
}
